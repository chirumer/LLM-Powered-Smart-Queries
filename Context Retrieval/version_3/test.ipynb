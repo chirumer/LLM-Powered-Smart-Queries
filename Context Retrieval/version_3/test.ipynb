{
 "cells": [
  {
   "cell_type": "code",
   "execution_count": 8,
   "metadata": {},
   "outputs": [],
   "source": [
    "import json\n",
    "\n",
    "\n",
    "EMBEDDINGS_PATH = 'embeddings/'\n",
    "\n",
    "embeds = {}\n",
    "for file in os.listdir(EMBEDDINGS_PATH):\n",
    "    with open(EMBEDDINGS_PATH + file, 'r') as f:\n",
    "        embeds[file.replace('.json', '')] = json.load(f)"
   ]
  },
  {
   "cell_type": "code",
   "execution_count": 11,
   "metadata": {},
   "outputs": [
    {
     "data": {
      "text/plain": [
       "dict_keys(['hyperface_platform_dev.shedlock', 'hyperface_platform_dev.job_type_config', 'hyperface_platform_dev.job'])"
      ]
     },
     "execution_count": 11,
     "metadata": {},
     "output_type": "execute_result"
    }
   ],
   "source": [
    "embeds.keys()"
   ]
  }
 ],
 "metadata": {
  "kernelspec": {
   "display_name": "Python 3",
   "language": "python",
   "name": "python3"
  },
  "language_info": {
   "codemirror_mode": {
    "name": "ipython",
    "version": 3
   },
   "file_extension": ".py",
   "mimetype": "text/x-python",
   "name": "python",
   "nbconvert_exporter": "python",
   "pygments_lexer": "ipython3",
   "version": "3.9.6"
  }
 },
 "nbformat": 4,
 "nbformat_minor": 2
}
