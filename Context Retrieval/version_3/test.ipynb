{
 "cells": [
  {
   "cell_type": "code",
   "execution_count": 6,
   "metadata": {},
   "outputs": [
    {
     "name": "stdout",
     "output_type": "stream",
     "text": [
      "Connected to MySQL server\n",
      "MySQL connection is closed\n"
     ]
    },
    {
     "data": {
      "text/plain": [
       "dict_keys(['hyperface_platform_dev.shedlock', 'hyperface_platform_dev.job_type_config', 'hyperface_platform_dev.job'])"
      ]
     },
     "execution_count": 6,
     "metadata": {},
     "output_type": "execute_result"
    }
   ],
   "source": [
    "from embedding import update_embeddings, get_embeddings\n",
    "\n",
    "update_embeddings(['hyperface_platform_dev'])\n",
    "embeds = get_embeddings()\n",
    "embeds.keys()"
   ]
  }
 ],
 "metadata": {
  "kernelspec": {
   "display_name": "Python 3",
   "language": "python",
   "name": "python3"
  },
  "language_info": {
   "codemirror_mode": {
    "name": "ipython",
    "version": 3
   },
   "file_extension": ".py",
   "mimetype": "text/x-python",
   "name": "python",
   "nbconvert_exporter": "python",
   "pygments_lexer": "ipython3",
   "version": "3.9.6"
  }
 },
 "nbformat": 4,
 "nbformat_minor": 2
}
