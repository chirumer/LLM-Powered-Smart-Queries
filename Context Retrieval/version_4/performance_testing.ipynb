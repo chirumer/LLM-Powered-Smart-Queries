{
 "cells": [
  {
   "cell_type": "code",
   "execution_count": 1,
   "metadata": {},
   "outputs": [],
   "source": [
    "import sys\n",
    "import os\n",
    "sys.path.append(os.path.abspath('../complete/src'))\n",
    "from context_retrieval import select_relevant_tables"
   ]
  },
  {
   "cell_type": "code",
   "execution_count": 2,
   "metadata": {},
   "outputs": [],
   "source": [
    "import json\n",
    "questions = json.load(open('sample_questions.json'))"
   ]
  },
  {
   "cell_type": "code",
   "execution_count": 7,
   "metadata": {},
   "outputs": [
    {
     "name": "stdout",
     "output_type": "stream",
     "text": [
      "Connected to MySQL server\n",
      "[\"grimlock_dev_db.account\", \"hyperface_dev_db.application_user\"]\n",
      "success\n",
      "Connected to MySQL server\n",
      "[\"grimlock_dev_db.account\", \"grimlock_dev_db.variant_upgrade_tracker\"]\n",
      "success\n",
      "Connected to MySQL server\n",
      "[\"grimlock_dev_db.variant_upgrade_tracker\", \"hyperface_dev_db.issuer_customer\"]\n",
      "success\n",
      "Connected to MySQL server\n",
      "[\"grimlock_dev_db.customer\", \"hyperface_dev_db.customer\", \"hyperface_dev_db.issuer_customer\"]\n",
      "success\n",
      "Connected to MySQL server\n",
      "[\"grimlock_dev_db.variant_upgrade_tracker\"]\n",
      "success\n",
      "Connected to MySQL server\n",
      "[\"grimlock_dev_db.customer\"]\n",
      "success\n",
      "Connected to MySQL server\n",
      "[\"grimlock_dev_db.variant_upgrade_tracker\"]\n",
      "Query: In the credit_card_program table of hyperface_dev_db database, which type of card type is the program id corresponding to?\n",
      "Relevant Tables: [\"hyperface_dev_db.credit_card_program\"]\n",
      "[\"grimlock_dev_db.variant_upgrade_tracker\"]\n",
      "success\n",
      "Connected to MySQL server\n",
      "[\"grimlock_dev_db.customer_account\", \"grimlock_dev_db.account\"]\n",
      "success\n",
      "Connected to MySQL server\n",
      "[\"grimlock_dev_db.customer\", \"grimlock_dev_db.customer_dump\"]\n",
      "success\n",
      "Connected to MySQL server\n",
      "[]\n",
      "success\n",
      "Connected to MySQL server\n",
      "[\"grimlock_dev_db.variant_upgrade_tracker\", \"hyperface_dev_db.paylater_card_program\"]\n",
      "success\n",
      "Connected to MySQL server\n",
      "[\"grimlock_dev_db.variant_upgrade_tracker\", \"grimlock_dev_db.account\"]\n",
      "success\n",
      "Connected to MySQL server\n",
      "[\"hyperface_dev_db.issuer_customer\", \"hyperface_dev_db.customer\"]\n",
      "success\n",
      "Connected to MySQL server\n",
      "[\"grimlock_dev_db.account\", \"hyperface_dev_db.paylater_card_program\", \"hyperface_dev_db.account\", \"hyperface_dev_db.prepaid_card_program\", \"hyperface_dev_db.overdraft_program\"]\n",
      "success\n",
      "Connected to MySQL server\n",
      "[\"grimlock_dev_db.account\"]\n",
      "success\n",
      "Connected to MySQL server\n",
      "[\"grimlock_dev_db.variant_upgrade_tracker\"]\n",
      "success\n",
      "Connected to MySQL server\n",
      "[\"hyperface_dev_db.card\", \"hyperface_dev_db.credit_card_program\", \"hyperface_dev_db.paylater_card_program\", \"hyperface_dev_db.prepaid_card_program\", \"hyperface_dev_db.card_statement\", \"hyperface_dev_db.credit_account\", \"hyperface_dev_db.prepaid_account\"]\n",
      "success\n",
      "Connected to MySQL server\n",
      "[\"hyperface_dev_db.credit_card_program\", \"grimlock_dev_db.account\"]\n",
      "success\n",
      "Connected to MySQL server\n",
      "[\"hyperface_dev_db.customer\", \"grimlock_dev_db.customer\"]\n",
      "success\n",
      "Connected to MySQL server\n",
      "[\"hyperface_dev_db.account\", \"grimlock_dev_db.customer_account\", \"grimlock_dev_db.account\", \"hyperface_dev_db.application_user\", \"hyperface_dev_db.virtual_account\", \"hyperface_dev_db.prepaid_account\", \"grimlock_dev_db.rewards_cache_metadata\", \"hyperface_dev_db.rewards_account\"]\n",
      "success\n"
     ]
    }
   ],
   "source": [
    "results = []\n",
    "\n",
    "for i in questions:\n",
    "    result = {}\n",
    "    result['query'] = i['query']\n",
    "    result['correct_schema'] = i['correct_schema']\n",
    "    result['inferred_schema'] = select_relevant_tables(i['query'])\n",
    "\n",
    "    results.append(result)\n"
   ]
  },
  {
   "cell_type": "code",
   "execution_count": 8,
   "metadata": {},
   "outputs": [
    {
     "data": {
      "text/plain": [
       "[{'query': 'What is the mobile number for the account with account id 123456?',\n",
       "  'correct_schema': ['grimlock_dev_db.account'],\n",
       "  'inferred_schema': ['grimlock_dev_db.account',\n",
       "   'hyperface_dev_db.application_user']},\n",
       " {'query': 'When was the account with switch account number as 123456 upgraded?',\n",
       "  'correct_schema': ['grimlock_dev_db.account'],\n",
       "  'inferred_schema': ['grimlock_dev_db.account',\n",
       "   'grimlock_dev_db.variant_upgrade_tracker']},\n",
       " {'query': 'What is the customer id for the customer for whom there is a variant upgrade from old program id 123 to new program id 234?',\n",
       "  'correct_schema': ['grimlock_dev_db.account',\n",
       "   'grimlock_dev_db.variant_upgrade_tracker'],\n",
       "  'inferred_schema': ['grimlock_dev_db.variant_upgrade_tracker',\n",
       "   'hyperface_dev_db.issuer_customer']},\n",
       " {'query': 'What is the email id of the customer with customer number 987654?',\n",
       "  'correct_schema': ['grimlock_dev_db.customer'],\n",
       "  'inferred_schema': ['grimlock_dev_db.customer',\n",
       "   'hyperface_dev_db.customer',\n",
       "   'hyperface_dev_db.issuer_customer']},\n",
       " {'query': 'What is the status of the variant upgrade tracker entry with id 123?',\n",
       "  'correct_schema': ['grimlock_dev_db.variant_upgrade_tracker'],\n",
       "  'inferred_schema': ['grimlock_dev_db.variant_upgrade_tracker']},\n",
       " {'query': 'When was the customer with customer id 789 created?',\n",
       "  'correct_schema': ['grimlock_dev_db.customer'],\n",
       "  'inferred_schema': ['grimlock_dev_db.customer']},\n",
       " {'query': 'What is the card holder type for the variant upgrade tracker with awb number 456?',\n",
       "  'correct_schema': ['grimlock_dev_db.variant_upgrade_tracker'],\n",
       "  'inferred_schema': ['grimlock_dev_db.variant_upgrade_tracker']},\n",
       " {'query': 'What is the created date for the account with account number 112233?',\n",
       "  'correct_schema': ['grimlock_dev_db.account'],\n",
       "  'inferred_schema': ['grimlock_dev_db.customer_account',\n",
       "   'grimlock_dev_db.account']},\n",
       " {'query': 'When was the last update for the customer with customer number 445566?',\n",
       "  'correct_schema': ['grimlock_dev_db.customer'],\n",
       "  'inferred_schema': ['grimlock_dev_db.customer',\n",
       "   'grimlock_dev_db.customer_dump']},\n",
       " {'query': 'What is the mobile number for the account with switch account number 998877?',\n",
       "  'correct_schema': ['grimlock_dev_db.account'],\n",
       "  'inferred_schema': []},\n",
       " {'query': 'How many accounts have been upgraded?',\n",
       "  'correct_schema': ['grimlock_dev_db.account'],\n",
       "  'inferred_schema': ['grimlock_dev_db.variant_upgrade_tracker',\n",
       "   'hyperface_dev_db.paylater_card_program']},\n",
       " {'query': 'How many customers have a specific variant upgrade from old program id 123 to new program id 234?',\n",
       "  'correct_schema': ['grimlock_dev_db.variant_upgrade_tracker'],\n",
       "  'inferred_schema': ['grimlock_dev_db.variant_upgrade_tracker',\n",
       "   'grimlock_dev_db.account']},\n",
       " {'query': 'When was the last time the customer with customer id 123 was updated?',\n",
       "  'correct_schema': ['grimlock_dev_db.customer'],\n",
       "  'inferred_schema': ['hyperface_dev_db.issuer_customer',\n",
       "   'hyperface_dev_db.customer']},\n",
       " {'query': 'How many accounts are suspended?',\n",
       "  'correct_schema': ['grimlock_dev_db.account'],\n",
       "  'inferred_schema': ['grimlock_dev_db.account',\n",
       "   'hyperface_dev_db.paylater_card_program',\n",
       "   'hyperface_dev_db.account',\n",
       "   'hyperface_dev_db.prepaid_card_program',\n",
       "   'hyperface_dev_db.overdraft_program']},\n",
       " {'query': 'When was the last time the account with account id 987 was updated?',\n",
       "  'correct_schema': ['grimlock_dev_db.account'],\n",
       "  'inferred_schema': ['grimlock_dev_db.account']},\n",
       " {'query': 'How many variant upgrade trackers are in a PENDING state?',\n",
       "  'correct_schema': ['grimlock_dev_db.variant_upgrade_tracker'],\n",
       "  'inferred_schema': ['grimlock_dev_db.variant_upgrade_tracker']},\n",
       " {'query': 'What is the billing period for the credit card with switch card id 123456?',\n",
       "  'correct_schema': ['hyperface_dev_db.credit_card_program',\n",
       "   'hyperface_dev_db.card'],\n",
       "  'inferred_schema': ['hyperface_dev_db.card',\n",
       "   'hyperface_dev_db.credit_card_program',\n",
       "   'hyperface_dev_db.paylater_card_program',\n",
       "   'hyperface_dev_db.prepaid_card_program',\n",
       "   'hyperface_dev_db.card_statement',\n",
       "   'hyperface_dev_db.credit_account',\n",
       "   'hyperface_dev_db.prepaid_account']},\n",
       " {'query': 'What is repayment url for the credit card with switch card id 123456? And what is the status of the account which owns this card?',\n",
       "  'correct_schema': ['hyperface_dev_db.credit_card_program',\n",
       "   'hyperface_dev_db.card',\n",
       "   'hyperface_dev_db.account'],\n",
       "  'inferred_schema': ['hyperface_dev_db.credit_card_program',\n",
       "   'grimlock_dev_db.account']},\n",
       " {'query': 'How many customers have an email id set?',\n",
       "  'correct_schema': ['grimlock_dev_db.customer'],\n",
       "  'inferred_schema': ['hyperface_dev_db.customer',\n",
       "   'grimlock_dev_db.customer']},\n",
       " {'query': 'When was the last time any account was created?',\n",
       "  'correct_schema': ['grimlock_dev_db.account'],\n",
       "  'inferred_schema': ['hyperface_dev_db.account',\n",
       "   'grimlock_dev_db.customer_account',\n",
       "   'grimlock_dev_db.account',\n",
       "   'hyperface_dev_db.application_user',\n",
       "   'hyperface_dev_db.virtual_account',\n",
       "   'hyperface_dev_db.prepaid_account',\n",
       "   'grimlock_dev_db.rewards_cache_metadata',\n",
       "   'hyperface_dev_db.rewards_account']}]"
      ]
     },
     "execution_count": 8,
     "metadata": {},
     "output_type": "execute_result"
    }
   ],
   "source": [
    "results"
   ]
  },
  {
   "cell_type": "code",
   "execution_count": 9,
   "metadata": {},
   "outputs": [
    {
     "data": {
      "text/html": [
       "<table border=\"1\"><tr><th>Query</th><th>Correct Schema</th><th>Inferred Schema</th></tr><tr><td>What is the mobile number for the account with account id 123456?</td><td>grimlock_dev_db.account</td><td>grimlock_dev_db.account, hyperface_dev_db.application_user</td></tr><tr><td>When was the account with switch account number as 123456 upgraded?</td><td>grimlock_dev_db.account</td><td>grimlock_dev_db.account, grimlock_dev_db.variant_upgrade_tracker</td></tr><tr><td>What is the customer id for the customer for whom there is a variant upgrade from old program id 123 to new program id 234?</td><td>grimlock_dev_db.account, grimlock_dev_db.variant_upgrade_tracker</td><td>grimlock_dev_db.variant_upgrade_tracker, hyperface_dev_db.issuer_customer</td></tr><tr><td>What is the email id of the customer with customer number 987654?</td><td>grimlock_dev_db.customer</td><td>grimlock_dev_db.customer, hyperface_dev_db.customer, hyperface_dev_db.issuer_customer</td></tr><tr><td>What is the status of the variant upgrade tracker entry with id 123?</td><td>grimlock_dev_db.variant_upgrade_tracker</td><td>grimlock_dev_db.variant_upgrade_tracker</td></tr><tr><td>When was the customer with customer id 789 created?</td><td>grimlock_dev_db.customer</td><td>grimlock_dev_db.customer</td></tr><tr><td>What is the card holder type for the variant upgrade tracker with awb number 456?</td><td>grimlock_dev_db.variant_upgrade_tracker</td><td>grimlock_dev_db.variant_upgrade_tracker</td></tr><tr><td>What is the created date for the account with account number 112233?</td><td>grimlock_dev_db.account</td><td>grimlock_dev_db.customer_account, grimlock_dev_db.account</td></tr><tr><td>When was the last update for the customer with customer number 445566?</td><td>grimlock_dev_db.customer</td><td>grimlock_dev_db.customer, grimlock_dev_db.customer_dump</td></tr><tr><td>What is the mobile number for the account with switch account number 998877?</td><td>grimlock_dev_db.account</td><td></td></tr><tr><td>How many accounts have been upgraded?</td><td>grimlock_dev_db.account</td><td>grimlock_dev_db.variant_upgrade_tracker, hyperface_dev_db.paylater_card_program</td></tr><tr><td>How many customers have a specific variant upgrade from old program id 123 to new program id 234?</td><td>grimlock_dev_db.variant_upgrade_tracker</td><td>grimlock_dev_db.variant_upgrade_tracker, grimlock_dev_db.account</td></tr><tr><td>When was the last time the customer with customer id 123 was updated?</td><td>grimlock_dev_db.customer</td><td>hyperface_dev_db.issuer_customer, hyperface_dev_db.customer</td></tr><tr><td>How many accounts are suspended?</td><td>grimlock_dev_db.account</td><td>grimlock_dev_db.account, hyperface_dev_db.paylater_card_program, hyperface_dev_db.account, hyperface_dev_db.prepaid_card_program, hyperface_dev_db.overdraft_program</td></tr><tr><td>When was the last time the account with account id 987 was updated?</td><td>grimlock_dev_db.account</td><td>grimlock_dev_db.account</td></tr><tr><td>How many variant upgrade trackers are in a PENDING state?</td><td>grimlock_dev_db.variant_upgrade_tracker</td><td>grimlock_dev_db.variant_upgrade_tracker</td></tr><tr><td>What is the billing period for the credit card with switch card id 123456?</td><td>hyperface_dev_db.credit_card_program, hyperface_dev_db.card</td><td>hyperface_dev_db.card, hyperface_dev_db.credit_card_program, hyperface_dev_db.paylater_card_program, hyperface_dev_db.prepaid_card_program, hyperface_dev_db.card_statement, hyperface_dev_db.credit_account, hyperface_dev_db.prepaid_account</td></tr><tr><td>What is repayment url for the credit card with switch card id 123456? And what is the status of the account which owns this card?</td><td>hyperface_dev_db.credit_card_program, hyperface_dev_db.card, hyperface_dev_db.account</td><td>hyperface_dev_db.credit_card_program, grimlock_dev_db.account</td></tr><tr><td>How many customers have an email id set?</td><td>grimlock_dev_db.customer</td><td>hyperface_dev_db.customer, grimlock_dev_db.customer</td></tr><tr><td>When was the last time any account was created?</td><td>grimlock_dev_db.account</td><td>hyperface_dev_db.account, grimlock_dev_db.customer_account, grimlock_dev_db.account, hyperface_dev_db.application_user, hyperface_dev_db.virtual_account, hyperface_dev_db.prepaid_account, grimlock_dev_db.rewards_cache_metadata, hyperface_dev_db.rewards_account</td></tr></table>"
      ],
      "text/plain": [
       "<IPython.core.display.HTML object>"
      ]
     },
     "metadata": {},
     "output_type": "display_data"
    }
   ],
   "source": [
    "from IPython.display import HTML, display\n",
    "\n",
    "# Convert list of dictionaries to HTML table string\n",
    "html = '<table border=\"1\"><tr><th>Query</th><th>Correct Schema</th><th>Inferred Schema</th></tr>'\n",
    "\n",
    "for item in results:\n",
    "    query = item['query']\n",
    "    correct_schema = ', '.join(item['correct_schema'])\n",
    "    inferred_schema = ', '.join(item['inferred_schema'])\n",
    "    html += f'<tr><td>{query}</td><td>{correct_schema}</td><td>{inferred_schema}</td></tr>'\n",
    "\n",
    "html += '</table>'\n",
    "\n",
    "# Display the HTML table\n",
    "display(HTML(html))\n"
   ]
  }
 ],
 "metadata": {
  "kernelspec": {
   "display_name": "Python 3",
   "language": "python",
   "name": "python3"
  },
  "language_info": {
   "codemirror_mode": {
    "name": "ipython",
    "version": 3
   },
   "file_extension": ".py",
   "mimetype": "text/x-python",
   "name": "python",
   "nbconvert_exporter": "python",
   "pygments_lexer": "ipython3",
   "version": "3.9.6"
  }
 },
 "nbformat": 4,
 "nbformat_minor": 2
}
