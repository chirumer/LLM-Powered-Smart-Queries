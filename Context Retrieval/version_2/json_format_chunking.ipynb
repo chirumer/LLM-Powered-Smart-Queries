{
 "cells": [
  {
   "cell_type": "code",
   "execution_count": 2,
   "metadata": {},
   "outputs": [
    {
     "name": "stdout",
     "output_type": "stream",
     "text": [
      "Connected to MySQL server\n",
      "MySQL connection is closed\n"
     ]
    }
   ],
   "source": [
    "import mysql.connector\n",
    "from mysql.connector import Error\n",
    "from dotenv import load_dotenv\n",
    "import os\n",
    "import json\n",
    "import os\n",
    "from openai import OpenAI\n",
    "\n",
    "client = OpenAI()\n",
    "EMBEDDING_MODEL = \"text-embedding-3-small\"\n",
    "\n",
    "# Load environment variables from .env file in parent directory\n",
    "load_dotenv(dotenv_path='../../.env')\n",
    "\n",
    "# Retrieve database credentials from environment variables\n",
    "db_host = os.getenv('DB_HOST')\n",
    "db_user = os.getenv('DB_USER')\n",
    "db_password = os.getenv('DB_PASSWORD')\n",
    "\n",
    "def create_embedding(data):\n",
    "\n",
    "    response = client.embeddings.create(model=EMBEDDING_MODEL, input=[data])\n",
    "    embedding = [e.embedding for e in response.data][0]\n",
    "\n",
    "    return embedding\n",
    "\n",
    "class DatabaseConnection:\n",
    "    def __init__(self):\n",
    "        self.connection = None\n",
    "        self.connect()\n",
    "    \n",
    "    def connect(self):\n",
    "        try:\n",
    "            self.connection = mysql.connector.connect(\n",
    "                host=db_host,\n",
    "                user=db_user,\n",
    "                password=db_password\n",
    "            )\n",
    "            if self.connection.is_connected():\n",
    "                print(\"Connected to MySQL server\")\n",
    "        except Error as e:\n",
    "            print(f\"Error: {e}\")\n",
    "            self.connection = None\n",
    "    \n",
    "    def close(self):\n",
    "        if self.connection and self.connection.is_connected():\n",
    "            self.connection.close()\n",
    "            print(\"MySQL connection is closed\")\n",
    "\n",
    "    def get_databases(self):\n",
    "        if not self.connection or not self.connection.is_connected():\n",
    "            print(\"No active MySQL connection\")\n",
    "            return []\n",
    "\n",
    "        try:\n",
    "            cursor = self.connection.cursor()\n",
    "            cursor.execute(\"SHOW DATABASES\")\n",
    "            databases = cursor.fetchall()\n",
    "            return [db[0] for db in databases]\n",
    "        \n",
    "        except Error as e:\n",
    "            print(f\"Error: {e}\")\n",
    "            return []\n",
    "        \n",
    "        finally:\n",
    "            cursor.close()\n",
    "\n",
    "    def get_tables(self, db_name):\n",
    "        if not self.connection or not self.connection.is_connected():\n",
    "            print(\"No active MySQL connection\")\n",
    "            return []\n",
    "\n",
    "        try:\n",
    "            cursor = self.connection.cursor()\n",
    "            cursor.execute(f\"USE {db_name}\")\n",
    "            cursor.execute(\"SHOW TABLES\")\n",
    "            tables = cursor.fetchall()\n",
    "            return [table[0] for table in tables]\n",
    "        \n",
    "        except Error as e:\n",
    "            print(f\"Error: {e}\")\n",
    "            return []\n",
    "        \n",
    "        finally:\n",
    "            cursor.close()\n",
    "\n",
    "    def describe_table(self, db_name, table_name):\n",
    "        if not self.connection or not self.connection.is_connected():\n",
    "            print(\"No active MySQL connection\")\n",
    "            return None\n",
    "\n",
    "        try:\n",
    "            cursor = self.connection.cursor()\n",
    "            cursor.execute(f\"USE {db_name}\")\n",
    "            cursor.execute(f\"DESCRIBE {table_name}\")\n",
    "            schema = cursor.fetchall()\n",
    "            return schema\n",
    "        \n",
    "        except Error as e:\n",
    "            print(f\"Error: {e}\")\n",
    "            return None\n",
    "        \n",
    "        finally:\n",
    "            cursor.close()\n",
    "\n",
    "embeddings = []\n",
    "\n",
    "db_conn = DatabaseConnection()\n",
    "tables = ['job', 'job_type_config', 'shedlock']\n",
    "for table in tables:\n",
    "    schema = db_conn.describe_table('hyperface_platform_dev', table)\n",
    "    if schema:\n",
    "        table_structure = {\n",
    "            \"database\": 'jetfire',\n",
    "            \"table\": table,\n",
    "            \"schema\": []\n",
    "        }\n",
    "        for column in schema:\n",
    "            column_info = {\n",
    "                \"Field\": column[0],\n",
    "                \"Type\": column[1],\n",
    "                \"Null\": column[2],\n",
    "                \"Key\": column[3],\n",
    "                \"Default\": column[4],\n",
    "                \"Extra\": column[5]\n",
    "            }\n",
    "            table_structure[\"schema\"].append(column_info)\n",
    "\n",
    "        table_structure_json = json.dumps(table_structure, indent=4)\n",
    "        embedding = create_embedding(table_structure_json)\n",
    "        embeddings.append((table, embedding))\n",
    "\n",
    "db_conn.close()"
   ]
  },
  {
   "cell_type": "code",
   "execution_count": 43,
   "metadata": {},
   "outputs": [],
   "source": [
    "# saving to avoid API call\n",
    "import pickle\n",
    "pickle.dump(embeddings, open('pickles/json_format.pickle', 'ab'))\n"
   ]
  },
  {
   "cell_type": "code",
   "execution_count": 6,
   "metadata": {},
   "outputs": [],
   "source": [
    "# run this cell if file already exists\n",
    "from openai import OpenAI\n",
    "\n",
    "client = OpenAI()\n",
    "EMBEDDING_MODEL = \"text-embedding-3-small\"\n",
    "\n",
    "import pickle\n",
    "embeds = pickle.load(open('pickles/json_format.pickle', 'rb'))\n",
    "\n",
    "def create_embedding(data):\n",
    "\n",
    "    response = client.embeddings.create(model=EMBEDDING_MODEL, input=[data])\n",
    "    embedding = [e.embedding for e in response.data][0]\n",
    "\n",
    "    return embedding"
   ]
  },
  {
   "cell_type": "code",
   "execution_count": 45,
   "metadata": {},
   "outputs": [],
   "source": [
    "query = 'What is the status of the most recently created job?'\n",
    "query_embed = create_embedding(query)"
   ]
  },
  {
   "cell_type": "code",
   "execution_count": 50,
   "metadata": {},
   "outputs": [
    {
     "data": {
      "text/plain": [
       "[('job', 0.3808369628796605),\n",
       " ('job_type_config', 0.32829081797517456),\n",
       " ('shedlock', 0.23842665254553452)]"
      ]
     },
     "execution_count": 50,
     "metadata": {},
     "output_type": "execute_result"
    }
   ],
   "source": [
    "from scipy import spatial\n",
    "\n",
    "relatedness_fn = lambda x, y: 1 - spatial.distance.cosine(x, y)\n",
    "score = []\n",
    "\n",
    "for table, embedding in embeds:\n",
    "    score.append((table, relatedness_fn(query_embed, embedding)))\n",
    "\n",
    "score.sort(key=lambda x: x[1], reverse=True)\n",
    "score"
   ]
  },
  {
   "cell_type": "code",
   "execution_count": 5,
   "metadata": {},
   "outputs": [
    {
     "data": {
      "text/plain": [
       "[('job_type_config', 0.35014549987500754),\n",
       " ('job', 0.32311440244171874),\n",
       " ('shedlock', 0.18835632415872738)]"
      ]
     },
     "execution_count": 5,
     "metadata": {},
     "output_type": "execute_result"
    }
   ],
   "source": [
    "query = 'What is the batch size of the most recently created job?'\n",
    "query_embed = create_embedding(query)\n",
    "\n",
    "from scipy import spatial\n",
    "\n",
    "relatedness_fn = lambda x, y: 1 - spatial.distance.cosine(x, y)\n",
    "score = []\n",
    "\n",
    "for table, embedding in embeds:\n",
    "    score.append((table, relatedness_fn(query_embed, embedding)))\n",
    "\n",
    "score.sort(key=lambda x: x[1], reverse=True)\n",
    "score"
   ]
  },
  {
   "cell_type": "code",
   "execution_count": null,
   "metadata": {},
   "outputs": [],
   "source": []
  }
 ],
 "metadata": {
  "kernelspec": {
   "display_name": "Python 3",
   "language": "python",
   "name": "python3"
  },
  "language_info": {
   "codemirror_mode": {
    "name": "ipython",
    "version": 3
   },
   "file_extension": ".py",
   "mimetype": "text/x-python",
   "name": "python",
   "nbconvert_exporter": "python",
   "pygments_lexer": "ipython3",
   "version": "3.9.6"
  }
 },
 "nbformat": 4,
 "nbformat_minor": 2
}
