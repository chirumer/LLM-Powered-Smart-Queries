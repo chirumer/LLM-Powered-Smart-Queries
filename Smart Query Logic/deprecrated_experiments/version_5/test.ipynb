{
 "cells": [
  {
   "cell_type": "code",
   "execution_count": 1,
   "metadata": {},
   "outputs": [],
   "source": [
    "import sys\n",
    "import os\n",
    "sys.path.append(os.path.abspath('../complete/src'))\n",
    "from database_connection import DatabaseConnection"
   ]
  },
  {
   "cell_type": "code",
   "execution_count": 2,
   "metadata": {},
   "outputs": [
    {
     "name": "stdout",
     "output_type": "stream",
     "text": [
      "Connected to MySQL server\n"
     ]
    }
   ],
   "source": [
    "db_conn = DatabaseConnection()"
   ]
  },
  {
   "cell_type": "code",
   "execution_count": 4,
   "metadata": {},
   "outputs": [],
   "source": [
    "schema = db_conn.describe_table('hyperface_dev_db', 'customer')"
   ]
  },
  {
   "cell_type": "code",
   "execution_count": 5,
   "metadata": {},
   "outputs": [],
   "source": [
    "schema_string = \"\\n\".join([f\"{column[0]} {column[1]} {column[2]} {column[3]} {column[4]} {column[5]}\" for column in schema])"
   ]
  },
  {
   "cell_type": "code",
   "execution_count": 7,
   "metadata": {},
   "outputs": [
    {
     "name": "stdout",
     "output_type": "stream",
     "text": [
      "id varchar(255) NO PRI None \n",
      "country_code varchar(255) YES  None \n",
      "created_on datetime YES  None \n",
      "current_address json YES  None \n",
      "date_of_birth varchar(255) YES  None \n",
      "email blob YES  None \n",
      "first_name varchar(255) YES  None \n",
      "gender varchar(255) YES  None \n",
      "last_name varchar(255) YES  None \n",
      "last_updated_on datetime YES  None \n",
      "middle_name varchar(255) YES  None \n",
      "mobile mediumblob YES  None \n",
      "mobile_country_code varchar(255) YES  None \n",
      "mobile_hash varchar(255) YES MUL None \n",
      "mobile_masked varchar(255) YES  None \n",
      "nationality varchar(255) YES  None \n",
      "pancard blob YES  None \n",
      "permanent_address json YES  None \n",
      "preferred_name varchar(255) YES  None \n",
      "switch_metadata varchar(255) YES  None \n",
      "title varchar(255) YES  None \n",
      "client_id varchar(255) YES MUL None \n",
      "schedule_ofcreated_on datetime YES  None \n",
      "switch_customer_number varchar(255) YES UNI None \n",
      "kyc_status varchar(255) YES  None \n",
      "office_address json YES  None \n"
     ]
    }
   ],
   "source": [
    "print(schema_string)"
   ]
  },
  {
   "cell_type": "code",
   "execution_count": 14,
   "metadata": {},
   "outputs": [
    {
     "name": "stdout",
     "output_type": "stream",
     "text": [
      "--------------------------------------------\n",
      "Field | Type | Null | Key | Default | Extra\n",
      "--------------------------------------------\n",
      "id | varchar(255) | NO | PRI | None | \n",
      "country_code | varchar(255) | YES |  | None | \n",
      "created_on | datetime | YES |  | None | \n",
      "current_address | json | YES |  | None | \n",
      "date_of_birth | varchar(255) | YES |  | None | \n",
      "email | blob | YES |  | None | \n",
      "first_name | varchar(255) | YES |  | None | \n",
      "gender | varchar(255) | YES |  | None | \n",
      "last_name | varchar(255) | YES |  | None | \n",
      "last_updated_on | datetime | YES |  | None | \n",
      "middle_name | varchar(255) | YES |  | None | \n",
      "mobile | mediumblob | YES |  | None | \n",
      "mobile_country_code | varchar(255) | YES |  | None | \n",
      "mobile_hash | varchar(255) | YES | MUL | None | \n",
      "mobile_masked | varchar(255) | YES |  | None | \n",
      "nationality | varchar(255) | YES |  | None | \n",
      "pancard | blob | YES |  | None | \n",
      "permanent_address | json | YES |  | None | \n",
      "preferred_name | varchar(255) | YES |  | None | \n",
      "switch_metadata | varchar(255) | YES |  | None | \n",
      "title | varchar(255) | YES |  | None | \n",
      "client_id | varchar(255) | YES | MUL | None | \n",
      "schedule_ofcreated_on | datetime | YES |  | None | \n",
      "switch_customer_number | varchar(255) | YES | UNI | None | \n",
      "kyc_status | varchar(255) | YES |  | None | \n",
      "office_address | json | YES |  | None | \n",
      "--------------------------------------------\n",
      "\n"
     ]
    }
   ],
   "source": [
    "# Define the headings\n",
    "headings = [\"Field\", \"Type\", \"Null\", \"Key\", \"Default\", \"Extra\"]\n",
    "\n",
    "# Convert the schema to a readable string format with headings\n",
    "schema_string = ''\n",
    "head_str = \" | \".join(headings) + \"\\n\"\n",
    "head_len = (len(head_str))\n",
    "schema_string += \"-\" * head_len + \"\\n\"\n",
    "schema_string += head_str\n",
    "schema_string += \"-\" * head_len + \"\\n\"\n",
    "schema_string += \"\\n\".join([f\"{column[0]} | {column[1]} | {column[2]} | {column[3]} | {column[4]} | {column[5]}\" for column in schema])\n",
    "schema_string += \"\\n\" + \"-\" * head_len + \"\\n\"\n",
    "\n",
    "# Print or send the schema string to ChatGPT\n",
    "print(schema_string)"
   ]
  },
  {
   "cell_type": "code",
   "execution_count": 3,
   "metadata": {},
   "outputs": [],
   "source": [
    "from context_retrieval import select_relevant_tables\n",
    "from sql_query_generation import format_schema\n",
    "\n",
    "def text_to_sql_prompt(query):\n",
    "    relevant_tables = select_relevant_tables(query)\n",
    "    db_conn = DatabaseConnection()\n",
    "\n",
    "    prompt = 'Here are the available table schema:\\n'\n",
    "    for table in relevant_tables:\n",
    "        schema = db_conn.describe_table(*table.split('.'))\n",
    "        prompt += f'{table}:\\n'\n",
    "        prompt += format_schema(schema)\n",
    "        prompt += '\\n'\n",
    "    prompt += '\\n'\n",
    "\n",
    "    prompt += f\"Please write the SQL query to solve the following query. Give me JUST the executable query and nothing else:\\n{query}\\n\"\n",
    "\n",
    "    return prompt"
   ]
  },
  {
   "cell_type": "code",
   "execution_count": 4,
   "metadata": {},
   "outputs": [
    {
     "name": "stdout",
     "output_type": "stream",
     "text": [
      "Connected to MySQL server\n",
      "[\"grimlock_dev_db.customer_dump\", \"grimlock_dev_db.customer_dump_retry\"]\n",
      "success\n",
      "Connected to MySQL server\n"
     ]
    }
   ],
   "source": [
    "p = text_to_sql_prompt('Show me the customers who have ID as 1234 in grimlock')"
   ]
  },
  {
   "cell_type": "code",
   "execution_count": 5,
   "metadata": {},
   "outputs": [
    {
     "name": "stdout",
     "output_type": "stream",
     "text": [
      "Here are the available table schema:\n",
      "grimlock_dev_db.customer_dump:\n",
      "--------------------------------------------\n",
      "Field | Type | Null | Key | Default | Extra\n",
      "--------------------------------------------\n",
      "id | bigint | NO | PRI | None | \n",
      "account_creation_date | varchar(255) | YES |  | None | \n",
      "block_code | varchar(255) | YES |  | None | \n",
      "block_code1 | varchar(255) | YES |  | None | \n",
      "block_code2 | varchar(255) | YES |  | None | \n",
      "card_block_code | varchar(255) | YES |  | None | \n",
      "card_creation_date | varchar(255) | YES |  | None | \n",
      "card_holder_type | varchar(255) | YES |  | None | \n",
      "card_last_four | varchar(255) | YES |  | None | \n",
      "created_at | datetime(6) | YES |  | None | \n",
      "customer_number | varchar(255) | YES |  | None | \n",
      "first_name | varchar(255) | YES |  | None | \n",
      "int_status | varchar(255) | YES |  | None | \n",
      "last_updated | datetime(6) | YES |  | None | \n",
      "logo | varchar(255) | YES |  | None | \n",
      "metadata | varchar(255) | YES |  | None | \n",
      "mobile_number | varbinary(255) | YES |  | None | \n",
      "prev_logo | varchar(255) | YES |  | None | \n",
      "relationship_number | varchar(255) | YES |  | None | \n",
      "status | enum('PENDING','PROCESSED') | YES |  | None | \n",
      "--------------------------------------------\n",
      "\n",
      "grimlock_dev_db.customer_dump_retry:\n",
      "--------------------------------------------\n",
      "Field | Type | Null | Key | Default | Extra\n",
      "--------------------------------------------\n",
      "id | bigint | NO | PRI | None | \n",
      "account_creation_date | varchar(255) | YES |  | None | \n",
      "block_code | varchar(255) | YES |  | None | \n",
      "block_code1 | varchar(255) | YES |  | None | \n",
      "block_code2 | varchar(255) | YES |  | None | \n",
      "card_block_code | varchar(255) | YES |  | None | \n",
      "card_creation_date | varchar(255) | YES |  | None | \n",
      "card_holder_type | varchar(255) | YES |  | None | \n",
      "card_last_four | varchar(255) | YES |  | None | \n",
      "created_at | datetime(6) | YES |  | None | \n",
      "customer_number | varchar(255) | YES |  | None | \n",
      "first_name | varchar(255) | YES |  | None | \n",
      "int_status | varchar(255) | YES |  | None | \n",
      "last_updated | datetime(6) | YES |  | None | \n",
      "metadata | json | YES |  | None | \n",
      "mobile_number | varbinary(255) | YES |  | None | \n",
      "prev_logo | varchar(255) | YES |  | None | \n",
      "retry_count | int | YES |  | None | \n",
      "status | enum('FAILED','PENDING','PROCESSED') | YES |  | None | \n",
      "unique_id | varchar(255) | YES |  | None | \n",
      "customer_dump_id | bigint | YES | UNI | None | \n",
      "--------------------------------------------\n",
      "\n",
      "\n",
      "Please write the SQL query to solve the following query. Give me JUST the executable query and nothing else:\n",
      "Show me the customers who have ID as 1234 in grimlock\n",
      "\n"
     ]
    }
   ],
   "source": [
    "print(p)"
   ]
  },
  {
   "cell_type": "code",
   "execution_count": 2,
   "metadata": {},
   "outputs": [
    {
     "name": "stdout",
     "output_type": "stream",
     "text": [
      "Connected to MySQL server\n",
      "[\"grimlock_dev_db.customer_dump\"]\n",
      "success\n",
      "Connected to MySQL server\n",
      "Here are the available table schema:\n",
      "grimlock_dev_db.customer_dump:\n",
      "--------------------------------------------\n",
      "Field | Type | Null | Key | Default | Extra\n",
      "--------------------------------------------\n",
      "id | bigint | NO | PRI | None | \n",
      "account_creation_date | varchar(255) | YES |  | None | \n",
      "block_code | varchar(255) | YES |  | None | \n",
      "block_code1 | varchar(255) | YES |  | None | \n",
      "block_code2 | varchar(255) | YES |  | None | \n",
      "card_block_code | varchar(255) | YES |  | None | \n",
      "card_creation_date | varchar(255) | YES |  | None | \n",
      "card_holder_type | varchar(255) | YES |  | None | \n",
      "card_last_four | varchar(255) | YES |  | None | \n",
      "created_at | datetime(6) | YES |  | None | \n",
      "customer_number | varchar(255) | YES |  | None | \n",
      "first_name | varchar(255) | YES |  | None | \n",
      "int_status | varchar(255) | YES |  | None | \n",
      "last_updated | datetime(6) | YES |  | None | \n",
      "logo | varchar(255) | YES |  | None | \n",
      "metadata | varchar(255) | YES |  | None | \n",
      "mobile_number | varbinary(255) | YES |  | None | \n",
      "prev_logo | varchar(255) | YES |  | None | \n",
      "relationship_number | varchar(255) | YES |  | None | \n",
      "status | enum('PENDING','PROCESSED') | YES |  | None | \n",
      "--------------------------------------------\n",
      "\n",
      "Please write the SQL query to solve the following query. Give me JUST the executable query and nothing else:\n",
      "Show me the customers who have ID as 1234 in grimlock\n",
      "\n",
      "Completion(id='cmpl-9WewiGPPE8CEOsyfmxEalGu4g8nlE', choices=[CompletionChoice(finish_reason='stop', index=0, logprobs=None, text='\\nSELECT * FROM grimlock_dev_db.customer_dump WHERE id = 1234')], created=1717570920, model='gpt-3.5-turbo-instruct', object='text_completion', system_fingerprint=None, usage=CompletionUsage(completion_tokens=16, prompt_tokens=375, total_tokens=391))\n",
      "SELECT * FROM grimlock_dev_db.customer_dump WHERE id = 1234\n"
     ]
    }
   ],
   "source": [
    "from sql_query_generation import text_to_sql\n",
    "\n",
    "k = text_to_sql('Show me the customers who have ID as 1234 in grimlock')"
   ]
  },
  {
   "cell_type": "code",
   "execution_count": 3,
   "metadata": {},
   "outputs": [
    {
     "data": {
      "text/plain": [
       "'SELECT * FROM grimlock_dev_db.customer_dump WHERE id = 1234'"
      ]
     },
     "execution_count": 3,
     "metadata": {},
     "output_type": "execute_result"
    }
   ],
   "source": [
    "k"
   ]
  },
  {
   "cell_type": "code",
   "execution_count": 6,
   "metadata": {},
   "outputs": [],
   "source": [
    "k = 'SELECT * FROM grimlock_dev_db.customer WHERE customer_number = 1'"
   ]
  },
  {
   "cell_type": "code",
   "execution_count": 7,
   "metadata": {},
   "outputs": [
    {
     "data": {
      "text/plain": [
       "[('1',\n",
       "  datetime.datetime(2024, 2, 21, 6, 19, 3, 663170),\n",
       "  'cst_HYPGZpBxLBgjIKCEZ',\n",
       "  None,\n",
       "  datetime.datetime(2024, 2, 21, 6, 19, 3, 663199),\n",
       "  None)]"
      ]
     },
     "execution_count": 7,
     "metadata": {},
     "output_type": "execute_result"
    }
   ],
   "source": [
    "db_conn.run_query(k)"
   ]
  },
  {
   "cell_type": "code",
   "execution_count": 8,
   "metadata": {},
   "outputs": [
    {
     "name": "stdout",
     "output_type": "stream",
     "text": [
      "Connected to MySQL server\n",
      "None\n",
      "[\"grimlock_dev_db.customer_dump\"]\n",
      "success\n",
      "[]\n",
      "success\n"
     ]
    }
   ],
   "source": [
    "from sql_query_generation import smart_query\n",
    "\n",
    "k = smart_query('Show me the customers who have ID as 1234 in grimlock')"
   ]
  },
  {
   "cell_type": "code",
   "execution_count": null,
   "metadata": {},
   "outputs": [],
   "source": [
    "k = smart_query('In grimlock, tell me the customer id of the customer number as 0007224787800000659700')"
   ]
  },
  {
   "cell_type": "code",
   "execution_count": 9,
   "metadata": {},
   "outputs": [
    {
     "data": {
      "text/plain": [
       "[]"
      ]
     },
     "execution_count": 9,
     "metadata": {},
     "output_type": "execute_result"
    }
   ],
   "source": [
    "k"
   ]
  },
  {
   "cell_type": "code",
   "execution_count": null,
   "metadata": {},
   "outputs": [],
   "source": []
  }
 ],
 "metadata": {
  "kernelspec": {
   "display_name": "Python 3",
   "language": "python",
   "name": "python3"
  },
  "language_info": {
   "codemirror_mode": {
    "name": "ipython",
    "version": 3
   },
   "file_extension": ".py",
   "mimetype": "text/x-python",
   "name": "python",
   "nbconvert_exporter": "python",
   "pygments_lexer": "ipython3",
   "version": "3.9.6"
  }
 },
 "nbformat": 4,
 "nbformat_minor": 2
}
