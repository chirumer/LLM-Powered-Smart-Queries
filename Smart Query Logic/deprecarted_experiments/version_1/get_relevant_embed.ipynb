{
 "cells": [
  {
   "cell_type": "code",
   "execution_count": 18,
   "metadata": {},
   "outputs": [],
   "source": [
    "import pandas as pd\n",
    "from openai import OpenAI\n",
    "from scipy import spatial\n",
    "\n",
    "client = OpenAI()\n",
    "EMBEDDING_MODEL = \"text-embedding-3-small\""
   ]
  },
  {
   "cell_type": "code",
   "execution_count": 19,
   "metadata": {},
   "outputs": [
    {
     "data": {
      "text/html": [
       "<div>\n",
       "<style scoped>\n",
       "    .dataframe tbody tr th:only-of-type {\n",
       "        vertical-align: middle;\n",
       "    }\n",
       "\n",
       "    .dataframe tbody tr th {\n",
       "        vertical-align: top;\n",
       "    }\n",
       "\n",
       "    .dataframe thead th {\n",
       "        text-align: right;\n",
       "    }\n",
       "</style>\n",
       "<table border=\"1\" class=\"dataframe\">\n",
       "  <thead>\n",
       "    <tr style=\"text-align: right;\">\n",
       "      <th></th>\n",
       "      <th>text</th>\n",
       "      <th>embedding</th>\n",
       "    </tr>\n",
       "  </thead>\n",
       "  <tbody>\n",
       "    <tr>\n",
       "      <th>0</th>\n",
       "      <td>mysql&gt; desc job_type_config;\\n+---------------...</td>\n",
       "      <td>[-0.030408846214413643, 0.03918106481432915, 0...</td>\n",
       "    </tr>\n",
       "    <tr>\n",
       "      <th>1</th>\n",
       "      <td>mysql&gt; desc job;\\n+----------------------+----...</td>\n",
       "      <td>[-0.011904806829988956, 0.046049900352954865, ...</td>\n",
       "    </tr>\n",
       "    <tr>\n",
       "      <th>2</th>\n",
       "      <td>The system offers the following services:\\n- B...</td>\n",
       "      <td>[-0.03950067237019539, 0.02617255598306656, 0....</td>\n",
       "    </tr>\n",
       "  </tbody>\n",
       "</table>\n",
       "</div>"
      ],
      "text/plain": [
       "                                                text  \\\n",
       "0  mysql> desc job_type_config;\\n+---------------...   \n",
       "1  mysql> desc job;\\n+----------------------+----...   \n",
       "2  The system offers the following services:\\n- B...   \n",
       "\n",
       "                                           embedding  \n",
       "0  [-0.030408846214413643, 0.03918106481432915, 0...  \n",
       "1  [-0.011904806829988956, 0.046049900352954865, ...  \n",
       "2  [-0.03950067237019539, 0.02617255598306656, 0....  "
      ]
     },
     "execution_count": 19,
     "metadata": {},
     "output_type": "execute_result"
    }
   ],
   "source": [
    "SAVE_PATH = \"embeddings/embedding_1.csv\"\n",
    "df = pd.read_csv(SAVE_PATH)\n",
    "df"
   ]
  },
  {
   "cell_type": "code",
   "execution_count": 44,
   "metadata": {},
   "outputs": [],
   "source": [
    "import json\n",
    "\n",
    "def strings_ranked_by_relatedness(\n",
    "    query: str,\n",
    "    df: pd.DataFrame,\n",
    "    relatedness_fn=lambda x, y: 1 - spatial.distance.cosine(x, y),\n",
    "    top_n: int = 100\n",
    ") -> tuple[list[str], list[float]]:\n",
    "    \"\"\"Returns a list of strings and relatednesses, sorted from most related to least.\"\"\"\n",
    "    query_embedding_response = client.embeddings.create(\n",
    "        model=EMBEDDING_MODEL,\n",
    "        input=query,\n",
    "    )\n",
    "    query_embedding = query_embedding_response.data[0].embedding\n",
    "    strings_and_relatednesses = [\n",
    "        (row[\"text\"], relatedness_fn(query_embedding, json.loads(row[\"embedding\"])))\n",
    "        for i, row in df.iterrows()\n",
    "    ]\n",
    "    strings_and_relatednesses.sort(key=lambda x: x[1], reverse=True)\n",
    "    strings, relatednesses = zip(*strings_and_relatednesses)\n",
    "    return strings[:top_n], relatednesses[:top_n]"
   ]
  },
  {
   "cell_type": "code",
   "execution_count": 24,
   "metadata": {},
   "outputs": [],
   "source": [
    "query = 'What is the batch size for job type config with id job_config_a3vafgaw?'"
   ]
  },
  {
   "cell_type": "code",
   "execution_count": 45,
   "metadata": {},
   "outputs": [],
   "source": [
    "strings, relatednesses = strings_ranked_by_relatedness('What is the batch size for job type config with id job_config_a3vafgaw?', df)"
   ]
  },
  {
   "cell_type": "code",
   "execution_count": 46,
   "metadata": {},
   "outputs": [
    {
     "data": {
      "text/plain": [
       "('mysql> desc job_type_config;\\n+--------------------------+-----------------+------+-----+---------+-------+\\n| Field                    | Type            | Null | Key | Default | Extra |\\n+--------------------------+-----------------+------+-----+---------+-------+\\n| id                       | varchar(255)    | NO   | PRI | NULL    |       |\\n| batch_size               | int             | YES  |     | NULL    |       |\\n| created_at               | datetime        | NO   |     | NULL    |       |\\n| delimiter                | varchar(255)    | YES  |     | NULL    |       |\\n| file_decryption_password | varchar(255)    | YES  |     | NULL    |       |\\n| header_list              | varbinary(2048) | YES  |     | NULL    |       |\\n| header_record_number     | int             | YES  |     | NULL    |       |\\n| is_file_encrypted        | bit(1)          | YES  |     | NULL    |       |\\n| is_single_file_report    | bit(1)          | YES  |     | NULL    |       |\\n| modified_at              | datetime        | NO   |     | NULL    |       |\\n| name                     | varchar(255)    | NO   | UNI | NULL    |       |\\n| notification_endpoint    | varchar(255)    | NO   |     | NULL    |       |\\n| service_endpoint         | varchar(255)    | NO   |     | NULL    |       |\\n| service_name             | varchar(255)    | NO   |     | NULL    |       |\\n| skip_last_record_count   | int             | YES  |     | NULL    |       |\\n| start_record_number      | int             | YES  |     | NULL    |       |\\n| validation_code_snippet  | varchar(255)    | YES  |     | NULL    |       |\\n+--------------------------+-----------------+------+-----+---------+-------+\\n\\nDescription:\\nEach job created in Jetfire is associated with a job_type_config. This table contains the details required for a job_type_config.',\n",
       " \"mysql> desc job;\\n+----------------------+---------------+------+-----+---------+-------+\\n| Field                | Type          | Null | Key | Default | Extra |\\n+----------------------+---------------+------+-----+---------+-------+\\n| id                   | varchar(255)  | NO   | PRI | NULL    |       |\\n| completion_time      | datetime      | YES  |     | NULL    |       |\\n| created_at           | datetime      | NO   |     | NULL    |       |\\n| exception_count      | int           | YES  |     | NULL    |       |\\n| failure_count        | int           | YES  |     | NULL    |       |\\n| failure_file_s3_link | varchar(255)  | YES  |     | NULL    |       |\\n| file_s3_link         | varchar(255)  | YES  |     | NULL    |       |\\n| filename             | varchar(255)  | YES  |     | NULL    |       |\\n| metadata             | varchar(2048) | YES  |     | NULL    |       |\\n| modified_at          | datetime      | NO   |     | NULL    |       |\\n| record_count         | int           | YES  |     | NULL    |       |\\n| repeated_column_data | varchar(512)  | YES  |     | NULL    |       |\\n| result_file_s3_link  | varchar(255)  | YES  |     | NULL    |       |\\n| status               | varchar(255)  | YES  |     | NULL    |       |\\n| success_count        | int           | YES  |     | NULL    |       |\\n| success_file_s3_link | varchar(255)  | YES  |     | NULL    |       |\\n| job_type_config_id   | varchar(255)  | YES  | MUL | NULL    |       |\\n+----------------------+---------------+------+-----+---------+-------+\\n\\nDescription:\\nThis table represents data related to asynchronous jobs created by the system's services using Jetfire.\\n\\nStatus field values:\\n- PROCESSED: Job is completed.\\n- PREPARING_SUMMARY: Job is completed but metadata is not yet posted.\\n- FAILED: Job failed.\",\n",
       " 'The system offers the following services:\\n- Bumblebee\\n- Ironbank\\n- Grimlock\\n\\nThese services use Jetfire to create asynchronous jobs. Each job generates a table named <service_name>_<job_id>. For instance, a job from Bumblebee with ID \"2fafg2\" would create a table named \"bumblebee_2fafg2\".\\n\\nThe job table format is:\\n+----------+---------------+------+-----+---------+----------------+\\n| Field    | Type          | Null | Key | Default | Extra          |\\n+----------+---------------+------+-----+---------+----------------+\\n| id       | int           | NO   | PRI | NULL    | auto_increment |\\n| data     | varchar(2048) | YES  |     | NULL    |                |\\n| status   | varchar(255)  | YES  |     | NULL    |                |\\n| message  | varchar(2048) | YES  |     | NULL    |                |\\n| metadata | varchar(1024) | YES  |     | NULL    |                |\\n+----------+---------------+------+-----+---------+----------------+\\n\\nThis table contains information about each processed record of the job.')"
      ]
     },
     "execution_count": 46,
     "metadata": {},
     "output_type": "execute_result"
    }
   ],
   "source": [
    "strings"
   ]
  },
  {
   "cell_type": "code",
   "execution_count": 47,
   "metadata": {},
   "outputs": [
    {
     "data": {
      "text/plain": [
       "(0.6069754620268071, 0.4106450860148787, 0.39569149214101906)"
      ]
     },
     "execution_count": 47,
     "metadata": {},
     "output_type": "execute_result"
    }
   ],
   "source": [
    "relatednesses"
   ]
  }
 ],
 "metadata": {
  "kernelspec": {
   "display_name": "Python 3",
   "language": "python",
   "name": "python3"
  },
  "language_info": {
   "codemirror_mode": {
    "name": "ipython",
    "version": 3
   },
   "file_extension": ".py",
   "mimetype": "text/x-python",
   "name": "python",
   "nbconvert_exporter": "python",
   "pygments_lexer": "ipython3",
   "version": "3.9.6"
  }
 },
 "nbformat": 4,
 "nbformat_minor": 2
}
